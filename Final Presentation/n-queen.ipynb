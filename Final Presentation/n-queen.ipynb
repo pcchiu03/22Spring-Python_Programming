{
 "cells": [
  {
   "cell_type": "code",
   "execution_count": 1,
   "metadata": {},
   "outputs": [
    {
     "name": "stdout",
     "output_type": "stream",
     "text": [
      "請輸入要解決幾皇后問題：4\n",
      "xQxx\n",
      "xxxQ\n",
      "Qxxx\n",
      "xxQx\n",
      "\n",
      "xxQx\n",
      "Qxxx\n",
      "xxxQ\n",
      "xQxx\n",
      "\n",
      "共有  2  組解\n"
     ]
    }
   ],
   "source": [
    "# 定義\n",
    "def dfs(t):\n",
    "    global ans # 令 ans 為全域變數\n",
    "    if t > N:\n",
    "        ans += 1 # 答案數加一\n",
    "        for i in range(1, N + 1):\n",
    "            for j in range(1, N + 1):\n",
    "                print('Q' if j == x[i] else 'x', end='\\n' if j == N else '')\n",
    "        print('')\n",
    "    else: \n",
    "        for i in range(1, N + 1):\n",
    "            ok = True\n",
    "            x[t]= i\n",
    "            for j in range(1, t):\n",
    "                if(x[t] == x[j] or t+x[t] == j+x[j] or t-x[t] == j-x[j]):\n",
    "                    ok = False\n",
    "                    break\n",
    "            if(ok): dfs(t + 1)\n",
    "\n",
    "\n",
    "N = int(input(\"請輸入要解決幾皇后問題：\"))\n",
    "x = [i for i in range(N + 1)]\n",
    "ans = 0 # 答案數初始為 0\n",
    "dfs(1) # 從第一層開始判斷\n",
    "print(\"共有 \", ans, \" 組解\")"
   ]
  }
 ],
 "metadata": {
  "kernelspec": {
   "display_name": " /Users/pao/Library/Jupyter/kernels/env_name",
   "language": "python",
   "name": "env_name"
  },
  "language_info": {
   "codemirror_mode": {
    "name": "ipython",
    "version": 3
   },
   "file_extension": ".py",
   "mimetype": "text/x-python",
   "name": "python",
   "nbconvert_exporter": "python",
   "pygments_lexer": "ipython3",
   "version": "3.10.13"
  }
 },
 "nbformat": 4,
 "nbformat_minor": 2
}
